{
 "cells": [
  {
   "cell_type": "markdown",
   "metadata": {},
   "source": [
    "# Problem Set 5 - Solutions "
   ]
  },
  {
   "cell_type": "code",
   "execution_count": 1,
   "metadata": {},
   "outputs": [],
   "source": [
    "import pandas as pd\n",
    "import numpy as np\n",
    "from sympy import *\n",
    "\n",
    "# mysoln is a dictionary to store your answers\n",
    "\n",
    "# the values of the first key, i.e. \"Students\" contains names for the students in your group\n",
    "# make sure these match the names shown on the pdf document provided by the MFE office\n",
    "\n",
    "mysoln = {'Students':  [\"Student A\",\"Student B\",\"Student C\", \"Student D\"] }"
   ]
  },
  {
   "cell_type": "markdown",
   "metadata": {},
   "source": [
    "# Question 1"
   ]
  },
  {
   "cell_type": "code",
   "execution_count": 2,
   "metadata": {},
   "outputs": [],
   "source": [
    "# Part 1(a)\n",
    "A = np.array([\n",
    "    [100,0,0],[0,1,3],[0,101,103]\n",
    "])\n",
    "\n",
    "b = np.array([\n",
    "    [4000000], \n",
    "    [0], \n",
    "    [2000000]\n",
    "]\n",
    ")"
   ]
  },
  {
   "cell_type": "code",
   "execution_count": 3,
   "metadata": {},
   "outputs": [
    {
     "data": {
      "text/plain": [
       "array([[ 40000.],\n",
       "       [ 30000.],\n",
       "       [-10000.]])"
      ]
     },
     "execution_count": 3,
     "metadata": {},
     "output_type": "execute_result"
    }
   ],
   "source": [
    "X = np.linalg.solve(A, b)\n",
    "X"
   ]
  },
  {
   "cell_type": "code",
   "execution_count": 4,
   "metadata": {},
   "outputs": [],
   "source": [
    "# Part 1(b)"
   ]
  },
  {
   "cell_type": "code",
   "execution_count": 5,
   "metadata": {},
   "outputs": [
    {
     "name": "stdout",
     "output_type": "stream",
     "text": [
      "3269125.6563124177 30.06103103493053\n",
      "82.03482998751551 67.29713331080575 9.803921568627452 19.607843137254903\n"
     ]
    }
   ],
   "source": [
    "ytm = 0.02\n",
    "liabPV = 2000000/(1+ytm)**30 + 4000000/(1+ytm)**31\n",
    "liabMacD = (2000000/(1+ytm)**30)/liabPV*30 + (4000000/(1+ytm)**31)/liabPV*31\n",
    "liabModD = liabMacD/(1+ytm)\n",
    "print(liabPV,liabModD)\n",
    "\n",
    "bondDp = 100/(1+ytm)**10 \n",
    "bondEp = 100/(1+ytm)**20\n",
    "bondDModD = 10/(1+ytm)\n",
    "bondEModD = 20/(1+ytm)\n",
    "print(bondDp,bondEp,bondDModD,bondEModD)"
   ]
  },
  {
   "cell_type": "code",
   "execution_count": 6,
   "metadata": {
    "scrolled": true
   },
   "outputs": [],
   "source": [
    "A = np.array([\n",
    "    [bondDp,bondEp],\n",
    "    [bondDp*bondDModD, bondEp*bondEModD]\n",
    "]\n",
    ")\n",
    "\n",
    "b = np.array([\n",
    "    [liabPV],\n",
    "     [liabPV*liabModD]    \n",
    "])"
   ]
  },
  {
   "cell_type": "code",
   "execution_count": 7,
   "metadata": {},
   "outputs": [
    {
     "data": {
      "text/plain": [
       "array([[-42489.56260016],\n",
       "       [100372.02727884]])"
      ]
     },
     "execution_count": 7,
     "metadata": {},
     "output_type": "execute_result"
    }
   ],
   "source": [
    "X2 = np.linalg.solve(A, b)\n",
    "X2"
   ]
  },
  {
   "cell_type": "code",
   "execution_count": 8,
   "metadata": {},
   "outputs": [],
   "source": [
    "\n",
    "#X=[1,2,3] #answer for part 1(a)\n",
    "#X2 = [1,2] # answer for part (1b)\n",
    "mysolnQ1 = {'a' : X ,'b': X2}\n",
    "mysoln['Q1'] = mysolnQ1"
   ]
  },
  {
   "cell_type": "code",
   "execution_count": 9,
   "metadata": {
    "scrolled": true
   },
   "outputs": [
    {
     "data": {
      "text/plain": [
       "{'Students': ['Student A', 'Student B', 'Student C', 'Student D'],\n",
       " 'Q1': {'a': array([[ 40000.],\n",
       "         [ 30000.],\n",
       "         [-10000.]]),\n",
       "  'b': array([[-42489.56260016],\n",
       "         [100372.02727884]])}}"
      ]
     },
     "execution_count": 9,
     "metadata": {},
     "output_type": "execute_result"
    }
   ],
   "source": [
    "mysoln"
   ]
  },
  {
   "cell_type": "markdown",
   "metadata": {},
   "source": [
    "# Question 2"
   ]
  },
  {
   "cell_type": "code",
   "execution_count": 10,
   "metadata": {},
   "outputs": [],
   "source": [
    "# a \n",
    "def convex(cpercent, maturity, yield1, face, py = 2):\n",
    "    c = cpercent/py*face #coupon\n",
    "    yieldsa = yield1/py #semi-annual yield\n",
    "    totalsteps = int(maturity*py)\n",
    "    periods = np.linspace(1/py,stop = maturity,num = totalsteps) #num periods\n",
    "    cf = np.repeat(c,len(periods)) +np.append(np.repeat(0,len(periods)-1),100)\n",
    "    price = sum(cf*(1+yieldsa)**(-py*periods))\n",
    "    gamma = sum(periods*(periods+1)*cf*(1+yieldsa)**(-py*periods))/(1+yieldsa)**2/price\n",
    "    return gamma\n",
    "    \n"
   ]
  },
  {
   "cell_type": "code",
   "execution_count": 11,
   "metadata": {},
   "outputs": [],
   "source": [
    "# bond price helper function\n",
    "def bondprice(cpercent, maturity, yield1, face,py):\n",
    "    c = cpercent/py * face #coupon\n",
    "    yieldsa = yield1/py #semi-annual yield\n",
    "    totalsteps = int(maturity*py)\n",
    "    periods = np.linspace(1/py,stop = maturity,num = totalsteps) #num periods\n",
    "    price = np.cumsum(c*(1+yieldsa)**(-py*periods))\n",
    "    price = price[maturity*py-1] + face*(1+yieldsa)**(-py*maturity)\n",
    "    return price\n",
    "    \n",
    "    "
   ]
  },
  {
   "cell_type": "code",
   "execution_count": 12,
   "metadata": {},
   "outputs": [],
   "source": [
    "#modified duration helper function\n",
    "def modd(cpercent, maturity, yield1, face, py=2):\n",
    "    c = cpercent/py * face #coupon\n",
    "    yieldsa = yield1/py #semi-annual yield\n",
    "    totalsteps = int(maturity*py)\n",
    "    periods = np.linspace(1/py,stop = maturity,num = totalsteps) #num periods\n",
    "    cf = np.repeat(c,len(periods)) +np.append(np.repeat(0,len(periods)-1),100)\n",
    "    weightedprice = sum(periods*cf*(1+yieldsa)**(-py*periods)) #discounted weighted cash flows at each period\n",
    "    price = sum(cf*(1+yieldsa)**(-py*periods)) #discounted cash flows at each period\n",
    "    return weightedprice/price/(1+yield1/py)"
   ]
  },
  {
   "cell_type": "code",
   "execution_count": 13,
   "metadata": {},
   "outputs": [],
   "source": [
    "def convexfd(cpercent, maturity, yield1, face, py=2, h=0.000001):\n",
    "    price = bondprice(cpercent, maturity, yield1, face, py=py)\n",
    "    priceL = bondprice(cpercent, maturity, yield1-h, face, py=py)\n",
    "    priceH = bondprice(cpercent, maturity, yield1+h, face, py=py)\n",
    "    return((priceH+priceL - 2*price)/(h**2) / price)\n",
    "    "
   ]
  },
  {
   "cell_type": "code",
   "execution_count": 14,
   "metadata": {
    "scrolled": true
   },
   "outputs": [],
   "source": [
    "yield1=0.02\n",
    "coupon=0.02\n",
    "face=100\n",
    "#the price calculations are unnecessary if we recognize that the yield\n",
    "#and coupon payments are the same, so the bond must be issued at par.\n",
    "#we use our functions from question 1\n",
    "bond1price = bondprice(coupon, 1, yield1, face, py=1)\n",
    "bond1duration = modd(coupon, 1, yield1, face, py=1)\n",
    "bond1convexity = convex(coupon, 1, yield1, face, py=1)\n",
    "bond1convexitychk = convexfd(coupon, 1, yield1, face, py=1)\n",
    "a = [bond1price, bond1duration, bond1convexity]\n"
   ]
  },
  {
   "cell_type": "code",
   "execution_count": 15,
   "metadata": {},
   "outputs": [
    {
     "data": {
      "text/plain": [
       "[99.99999999999999, 0.9803921568627451, 1.9223375624759709]"
      ]
     },
     "execution_count": 15,
     "metadata": {},
     "output_type": "execute_result"
    }
   ],
   "source": [
    "a"
   ]
  },
  {
   "cell_type": "code",
   "execution_count": 16,
   "metadata": {},
   "outputs": [],
   "source": [
    "bond2price = bondprice(coupon, 2, yield1, face, py=1)\n",
    "bond2duration = modd(coupon, 2, yield1, face, py=1)\n",
    "bond2convexity = convex(coupon, 2, yield1, face, py=1)\n",
    "b = [bond2price, bond2duration, bond2convexity]"
   ]
  },
  {
   "cell_type": "code",
   "execution_count": 17,
   "metadata": {},
   "outputs": [
    {
     "data": {
      "text/plain": [
       "[99.99999999999999, 1.9415609381007308, 5.691626900664149]"
      ]
     },
     "execution_count": 17,
     "metadata": {},
     "output_type": "execute_result"
    }
   ],
   "source": [
    "b"
   ]
  },
  {
   "cell_type": "code",
   "execution_count": 18,
   "metadata": {},
   "outputs": [],
   "source": [
    "#no difference in expected cashflows for the frn \n",
    "#as compared with the two year bond\n",
    "yield1 = 0.02\n",
    "frnprice = bondprice(coupon, 2, yield1, face, py=1)\n",
    "c = [frnprice]\n",
    "c = np.round(c)"
   ]
  },
  {
   "cell_type": "code",
   "execution_count": 19,
   "metadata": {},
   "outputs": [
    {
     "data": {
      "text/plain": [
       "[0.9803921568627451, 1.9223375624759709]"
      ]
     },
     "execution_count": 19,
     "metadata": {},
     "output_type": "execute_result"
    }
   ],
   "source": [
    "frnduration = 1/(1+yield1)\n",
    "frnconvexity= 2/(1+yield1)**2\n",
    "d = [frnduration, frnconvexity]\n",
    "d\n"
   ]
  },
  {
   "cell_type": "code",
   "execution_count": 20,
   "metadata": {},
   "outputs": [
    {
     "data": {
      "text/plain": [
       "{'Students': ['Student A', 'Student B', 'Student C', 'Student D'],\n",
       " 'Q1': {'a': array([[ 40000.],\n",
       "         [ 30000.],\n",
       "         [-10000.]]),\n",
       "  'b': array([[-42489.56260016],\n",
       "         [100372.02727884]])},\n",
       " 'Q2': {'a': [99.99999999999999, 0.9803921568627451, 1.9223375624759709],\n",
       "  'b': [99.99999999999999, 1.9415609381007308, 5.691626900664149],\n",
       "  'c': array([100.]),\n",
       "  'd': [0.9803921568627451, 1.9223375624759709]}}"
      ]
     },
     "execution_count": 20,
     "metadata": {},
     "output_type": "execute_result"
    }
   ],
   "source": [
    "mysolnQ2 = {'a' : a ,'b': b, 'c':c, 'd':d}\n",
    "mysoln['Q2'] = mysolnQ2\n",
    "mysoln"
   ]
  },
  {
   "cell_type": "code",
   "execution_count": null,
   "metadata": {},
   "outputs": [],
   "source": []
  }
 ],
 "metadata": {
  "kernelspec": {
   "display_name": "Python 3 (ipykernel)",
   "language": "python",
   "name": "python3"
  },
  "language_info": {
   "codemirror_mode": {
    "name": "ipython",
    "version": 3
   },
   "file_extension": ".py",
   "mimetype": "text/x-python",
   "name": "python",
   "nbconvert_exporter": "python",
   "pygments_lexer": "ipython3",
   "version": "3.9.7"
  }
 },
 "nbformat": 4,
 "nbformat_minor": 4
}
