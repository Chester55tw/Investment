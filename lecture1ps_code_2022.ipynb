{
 "cells": [
  {
   "cell_type": "markdown",
   "metadata": {},
   "source": [
    "# Problem Set 1 - Solutions "
   ]
  },
  {
   "cell_type": "code",
   "execution_count": 3,
   "metadata": {},
   "outputs": [],
   "source": [
    "import numpy as np\n",
    "import pandas as pd\n",
    "np.set_printoptions(precision=2)\n",
    "mysoln = pd.DataFrame([\"Student A\",\"Student B\",\"Student C\", \"Student D\"],columns=['student'])"
   ]
  },
  {
   "cell_type": "markdown",
   "metadata": {},
   "source": [
    "## Question 1"
   ]
  },
  {
   "cell_type": "code",
   "execution_count": 20,
   "metadata": {},
   "outputs": [],
   "source": [
    "# 1\n",
    "%precision 2 #round numbers\n",
    "pv = 2e5  # initial investment\n",
    "tm = 2  # maturity in years\n",
    "r = 0.04  # interest rate\n",
    "# answers\n",
    "a = pv * (1 + r)**tm\n",
    "b = pv * (1 + r/4)**(tm * 4) #quarterly\n",
    "c = pv * (1 + r/12)**(tm * 12) # monthly\n",
    "# add to list\n",
    "mysoln[\"Q1\"] = [a,b,c,\"\"]"
   ]
  },
  {
   "cell_type": "markdown",
   "metadata": {},
   "source": [
    "## Question 2"
   ]
  },
  {
   "cell_type": "code",
   "execution_count": 8,
   "metadata": {},
   "outputs": [],
   "source": [
    "#2a\n",
    "def pv_annuity(pmt, r, n):\n",
    "    return (pmt/r)*(1-1/(1+r)**n)\n",
    "r = (1+0.05)**2 - 1\n",
    "a= pv_annuity(160000,r,10)"
   ]
  },
  {
   "cell_type": "code",
   "execution_count": 9,
   "metadata": {},
   "outputs": [],
   "source": [
    "#2b\n",
    "from sympy import *\n",
    "r = (1+0.06)**2 - 1\n",
    "pmt = Symbol('pmt')\n",
    "n =10\n",
    "pv = (pmt/r)*(1-1/(1+r)**n)\n",
    "b = solve(pv - 3000000, pmt)"
   ]
  },
  {
   "cell_type": "code",
   "execution_count": 10,
   "metadata": {},
   "outputs": [],
   "source": [
    "mysoln[\"Q2\"] = [a,b,\"\",\"\"]"
   ]
  },
  {
   "cell_type": "markdown",
   "metadata": {},
   "source": [
    "## Question 3"
   ]
  },
  {
   "cell_type": "code",
   "execution_count": 11,
   "metadata": {},
   "outputs": [
    {
     "data": {
      "text/plain": [
       "2249751.493490527"
      ]
     },
     "execution_count": 11,
     "metadata": {},
     "output_type": "execute_result"
    }
   ],
   "source": [
    "r = 0.02\n",
    "pv = (1/r)*(1-1/(1+r)**35)\n",
    "pv\n",
    "savings = 0.45 * 100000\n",
    "total_saved = savings*(1+r)**35*pv\n",
    "total_saved"
   ]
  },
  {
   "cell_type": "code",
   "execution_count": 12,
   "metadata": {},
   "outputs": [
    {
     "data": {
      "text/plain": [
       "137587.41793935114"
      ]
     },
     "execution_count": 12,
     "metadata": {},
     "output_type": "execute_result"
    }
   ],
   "source": [
    "r = 0.02\n",
    "pv_discount = (1/r)*(1-1/(1+r)**20)\n",
    "# C*pv_discount = 2083013\n",
    "C = total_saved/pv_discount\n",
    "C"
   ]
  },
  {
   "cell_type": "code",
   "execution_count": 13,
   "metadata": {},
   "outputs": [],
   "source": [
    "mysoln[\"Q3\"] = [total_saved,C,\"\",\"\"]"
   ]
  },
  {
   "cell_type": "markdown",
   "metadata": {},
   "source": [
    "## Question 4"
   ]
  },
  {
   "cell_type": "code",
   "execution_count": 14,
   "metadata": {},
   "outputs": [
    {
     "data": {
      "text/plain": [
       "0.030415956913506736"
      ]
     },
     "execution_count": 14,
     "metadata": {},
     "output_type": "execute_result"
    }
   ],
   "source": [
    "#4a\n",
    "APR = 0.03\n",
    "EAR = (1+APR/12)**12-1\n",
    "EAR"
   ]
  },
  {
   "cell_type": "code",
   "execution_count": 15,
   "metadata": {},
   "outputs": [
    {
     "data": {
      "text/plain": [
       "0.0025"
      ]
     },
     "execution_count": 15,
     "metadata": {},
     "output_type": "execute_result"
    }
   ],
   "source": [
    "#4b\n",
    "monthly_rate = APR/12\n",
    "monthly_rate "
   ]
  },
  {
   "cell_type": "code",
   "execution_count": 16,
   "metadata": {},
   "outputs": [
    {
     "data": {
      "text/plain": [
       "2108.02016864728"
      ]
     },
     "execution_count": 16,
     "metadata": {},
     "output_type": "execute_result"
    }
   ],
   "source": [
    "r = monthly_rate\n",
    "n = 30*12\n",
    "total_mortgage = 500000\n",
    "x = (1/r)*(1-1/((1+r)**n))\n",
    "pmt = total_mortgage/ x\n",
    "pmt"
   ]
  },
  {
   "cell_type": "code",
   "execution_count": 17,
   "metadata": {},
   "outputs": [
    {
     "data": {
      "text/plain": [
       "482425.8581755352"
      ]
     },
     "execution_count": 17,
     "metadata": {},
     "output_type": "execute_result"
    }
   ],
   "source": [
    "remaining = pmt*(1/r)*(1-1/((1+r)**340))\n",
    "remaining"
   ]
  },
  {
   "cell_type": "code",
   "execution_count": 18,
   "metadata": {},
   "outputs": [],
   "source": [
    "mysoln[\"Q4\"] = [EAR,pmt,remaining,\"\"]"
   ]
  },
  {
   "cell_type": "code",
   "execution_count": 19,
   "metadata": {},
   "outputs": [
    {
     "data": {
      "text/html": [
       "<div>\n",
       "<style scoped>\n",
       "    .dataframe tbody tr th:only-of-type {\n",
       "        vertical-align: middle;\n",
       "    }\n",
       "\n",
       "    .dataframe tbody tr th {\n",
       "        vertical-align: top;\n",
       "    }\n",
       "\n",
       "    .dataframe thead th {\n",
       "        text-align: right;\n",
       "    }\n",
       "</style>\n",
       "<table border=\"1\" class=\"dataframe\">\n",
       "  <thead>\n",
       "    <tr style=\"text-align: right;\">\n",
       "      <th></th>\n",
       "      <th>student</th>\n",
       "      <th>Q1</th>\n",
       "      <th>Q2</th>\n",
       "      <th>Q3</th>\n",
       "      <th>Q4</th>\n",
       "    </tr>\n",
       "  </thead>\n",
       "  <tbody>\n",
       "    <tr>\n",
       "      <th>0</th>\n",
       "      <td>Student A</td>\n",
       "      <td>108160.0</td>\n",
       "      <td>972660.319418</td>\n",
       "      <td>2249751.493491</td>\n",
       "      <td>0.030416</td>\n",
       "    </tr>\n",
       "    <tr>\n",
       "      <th>1</th>\n",
       "      <td>Student B</td>\n",
       "      <td>108285.670563</td>\n",
       "      <td>[538800.562116942]</td>\n",
       "      <td>137587.417939</td>\n",
       "      <td>2108.020169</td>\n",
       "    </tr>\n",
       "    <tr>\n",
       "      <th>2</th>\n",
       "      <td>Student C</td>\n",
       "      <td>108314.295916</td>\n",
       "      <td></td>\n",
       "      <td></td>\n",
       "      <td>482425.858176</td>\n",
       "    </tr>\n",
       "    <tr>\n",
       "      <th>3</th>\n",
       "      <td>Student D</td>\n",
       "      <td></td>\n",
       "      <td></td>\n",
       "      <td></td>\n",
       "      <td></td>\n",
       "    </tr>\n",
       "  </tbody>\n",
       "</table>\n",
       "</div>"
      ],
      "text/plain": [
       "     student             Q1                  Q2              Q3             Q4\n",
       "0  Student A       108160.0       972660.319418  2249751.493491       0.030416\n",
       "1  Student B  108285.670563  [538800.562116942]   137587.417939    2108.020169\n",
       "2  Student C  108314.295916                                      482425.858176\n",
       "3  Student D                                                                  "
      ]
     },
     "execution_count": 19,
     "metadata": {},
     "output_type": "execute_result"
    }
   ],
   "source": [
    "mysoln"
   ]
  },
  {
   "cell_type": "code",
   "execution_count": null,
   "metadata": {},
   "outputs": [],
   "source": []
  }
 ],
 "metadata": {
  "kernelspec": {
   "display_name": "Python 3",
   "language": "python",
   "name": "python3"
  },
  "language_info": {
   "codemirror_mode": {
    "name": "ipython",
    "version": 3
   },
   "file_extension": ".py",
   "mimetype": "text/x-python",
   "name": "python",
   "nbconvert_exporter": "python",
   "pygments_lexer": "ipython3",
   "version": "3.8.8"
  }
 },
 "nbformat": 4,
 "nbformat_minor": 4
}
