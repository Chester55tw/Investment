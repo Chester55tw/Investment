{
 "cells": [
  {
   "cell_type": "markdown",
   "metadata": {},
   "source": [
    "# Problem Set 3 - Template"
   ]
  },
  {
   "cell_type": "code",
   "execution_count": 1,
   "metadata": {},
   "outputs": [],
   "source": [
    "import pandas as pd\n",
    "import numpy as np\n",
    "from sympy import *\n",
    "\n",
    "# mysoln is a dictionary to store your answers\n",
    "\n",
    "# the values of the first key, i.e. \"Students\" contains names for the students in your group\n",
    "# make sure these match the names shown on the pdf document provided by the MFE office\n",
    "\n",
    "#Please provide steps/ explanation for your answers\n",
    "mysoln = {} \n"
   ]
  },
  {
   "cell_type": "markdown",
   "metadata": {},
   "source": [
    "# Question 1\n",
    "\n"
   ]
  },
  {
   "cell_type": "markdown",
   "metadata": {},
   "source": [
    "# Question 2"
   ]
  },
  {
   "cell_type": "code",
   "execution_count": 2,
   "metadata": {},
   "outputs": [
    {
     "name": "stdout",
     "output_type": "stream",
     "text": [
      "0.04014802830754771\n"
     ]
    },
    {
     "ename": "NameError",
     "evalue": "name 'c' is not defined",
     "output_type": "error",
     "traceback": [
      "\u001b[0;31m---------------------------------------------------------------------------\u001b[0m",
      "\u001b[0;31mNameError\u001b[0m                                 Traceback (most recent call last)",
      "Input \u001b[0;32mIn [2]\u001b[0m, in \u001b[0;36m<cell line: 9>\u001b[0;34m()\u001b[0m\n\u001b[1;32m      7\u001b[0m b \u001b[38;5;241m=\u001b[39m math\u001b[38;5;241m.\u001b[39msqrt((\u001b[38;5;241m1\u001b[39m\u001b[38;5;241m+\u001b[39my3)\u001b[38;5;241m*\u001b[39m\u001b[38;5;241m*\u001b[39m\u001b[38;5;241m3\u001b[39m\u001b[38;5;241m/\u001b[39m(\u001b[38;5;241m1\u001b[39m\u001b[38;5;241m+\u001b[39my1)) \u001b[38;5;241m-\u001b[39m\u001b[38;5;241m1\u001b[39m \n\u001b[1;32m      8\u001b[0m \u001b[38;5;28mprint\u001b[39m(b)\n\u001b[0;32m----> 9\u001b[0m \u001b[38;5;28mprint\u001b[39m(\u001b[43mc\u001b[49m)\n",
      "\u001b[0;31mNameError\u001b[0m: name 'c' is not defined"
     ]
    }
   ],
   "source": [
    "# provide write up for a and c\n",
    "# The relevant forward rate is the t + T-year spot rate\n",
    "# your intermediary code to get your answers here\n",
    "y1 = 0.01 \n",
    "y3 = 0.03\n",
    "import math \n",
    "b = math.sqrt((1+y3)**3/(1+y1)) -1 \n",
    "print(b)\n",
    "print(c)\n"
   ]
  },
  {
   "cell_type": "markdown",
   "metadata": {},
   "source": [
    "# Question 3"
   ]
  },
  {
   "cell_type": "code",
   "execution_count": 6,
   "metadata": {},
   "outputs": [],
   "source": [
    "# your intermediary code to get your answers here\n",
    "# Formula for pricing bonds Write down the formula for pricing bonds.\n",
    "\n",
    "# save down your final answers using the template below. Please include the explanation for your answers where necessary in the markdown. \n",
    "couponA = 0.01*100\n",
    "couponB = 0.01*100\n",
    "couponC = 0.04*100\n",
    "couponD = 0.04*100\n",
    "yrA = 5\n",
    "yrB = 10\n",
    "yrC = 5\n",
    "yrD = 10\n",
    "yield1 = 0.03\n",
    "\n",
    "Price_A1 = 0\n",
    "for i in range(1,yrA*2):\n",
    "    Price_A1 += (couponA/2)/((1+yield1/2)**(i))\n",
    "Price_A1 = Price_A1 + (100+couponA/2)/((1+yield1/2)**(yrA*2))\n",
    "\n",
    "Price_B1 = 0\n",
    "for i in range(1,yrB*2):\n",
    "    Price_B1 += (couponB/2)/((1+yield1/2)**(i))\n",
    "Price_B1 = Price_B1+ (100+couponB/2)/((1+yield1/2)**(yrB*2))\n",
    "\n",
    "Price_C1 = 0\n",
    "for i in range(1,yrC*2):\n",
    "    Price_C1 += (couponC/2)/((1+yield1/2)**(i))\n",
    "Price_C1 = Price_C1 + (100+couponC/2)/((1+yield1/2)**(yrC*2))\n",
    "\n",
    "Price_D1 = 0\n",
    "for i in range(1,yrD*2):\n",
    "    Price_D1 += (couponD/2)/((1+yield1/2)**(i))\n",
    "Price_D1 = Price_D1 + (100+couponD/2)/((1+yield1/2)**(yrD*2))\n",
    "\n",
    "b = [Price_A1,Price_B1,Price_C1,Price_D1] #(Bond A, Bond B, Bond C, Bond D)\n",
    "\n",
    "yield2 = 0.035\n",
    "Price_A2 = 0\n",
    "for i in range(1,yrA*2):\n",
    "    Price_A2 += (couponA/2)/((1+yield2/2)**(i))\n",
    "Price_A2 = Price_A2 + (100+couponA/2)/((1+yield2/2)**(yrA*2))\n",
    "\n",
    "Price_B2 = 0\n",
    "for i in range(1,yrB*2):\n",
    "    Price_B2 += (couponB/2)/((1+yield2/2)**(i))\n",
    "Price_B2 = Price_B2+ (100+couponB/2)/((1+yield2/2)**(yrB*2))\n",
    "\n",
    "Price_C2 = 0\n",
    "for i in range(1,yrC*2):\n",
    "    Price_C2 += (couponC/2)/((1+yield2/2)**(i))\n",
    "Price_C2 = Price_C2 + (100+couponC/2)/((1+yield2/2)**(yrC*2))\n",
    "\n",
    "Price_D2 = 0\n",
    "for i in range(1,yrD*2):\n",
    "    Price_D2 += (couponD/2)/((1+yield2/2)**(i))\n",
    "Price_D2 = Price_D2 + (100+couponD/2)/((1+yield2/2)**(yrD*2))\n",
    "\n",
    "cprices = [Price_A2,Price_B2,Price_C2,Price_D2] #(Bond A, Bond B, Bond C, Bond D)\n",
    "\n",
    "cchangeA1 = (Price_A2-Price_A1)\n",
    "cchangeB1 = (Price_B2-Price_B1)\n",
    "cchangeC1 = (Price_C2-Price_C1)\n",
    "cchangeD1 = (Price_D2-Price_D1)\n",
    "\n",
    "cchanges = [cchangeA1,cchangeB1,cchangeC1,cchangeD1] #(Bond A % Chg, Bond B % Chg, Bond C % Chg, Bond D % Chg) in decimal form\n",
    "\n",
    "yield3 = 0.025\n",
    "Price_A3 = 0\n",
    "for i in range(1,yrA*2):\n",
    "    Price_A3 += (couponA/2)/((1+yield3/2)**(i))\n",
    "Price_A3 = Price_A3 + (100+couponA/2)/((1+yield3/2)**(yrA*2))\n",
    "\n",
    "Price_B3 = 0\n",
    "for i in range(1,yrB*2):\n",
    "    Price_B3 += (couponB/2)/((1+yield3/2)**(i))\n",
    "Price_B3 = Price_B3+ (100+couponB/2)/((1+yield3/2)**(yrB*2))\n",
    "\n",
    "Price_C3 = 0\n",
    "for i in range(1,yrC*2):\n",
    "    Price_C3 += (couponC/2)/((1+yield3/2)**(i))\n",
    "Price_C3 = Price_C3 + (100+couponC/2)/((1+yield3/2)**(yrC*2))\n",
    "\n",
    "Price_D3 = 0\n",
    "for i in range(1,yrD*2):\n",
    "    Price_D3 += (couponD/2)/((1+yield3/2)**(i))\n",
    "Price_D3 = Price_D3 + (100+couponD/2)/((1+yield3/2)**(yrD*2))\n",
    "\n",
    "dprices = [Price_A3,Price_B3,Price_C3,Price_D3 ] #(Bond A, Bond B, Bond C, Bond D)\n",
    "\n",
    "cchangeA2 = (Price_A3-Price_A1)\n",
    "cchangeB2 = (Price_B3-Price_B1)\n",
    "cchangeC2 = (Price_C3-Price_C1)\n",
    "cchangeD2 = (Price_D3-Price_D1)\n",
    "\n",
    "dchanges = [cchangeA2,cchangeB2,cchangeC2,cchangeD2] #(Bond A % Chg, Bond B % Chg, Bond C % Chg, Bond D % Chg) in decimal form\n",
    "\n",
    "\n",
    "yield1 = 0.03\n",
    "Weight_A = 0\n",
    "for i in range(1,yrA*2):\n",
    "    Weight_A += (couponA/2)/((1+yield1/2)**(i))*(i*0.5)\n",
    "Weight_A = 1/Price_A1 * (Weight_A + (100+couponA/2)/((1+yield1/2)**(yrA*2))*yrA)\n",
    "\n",
    "Weight_B = 0\n",
    "for i in range(1,yrB*2):\n",
    "    Weight_B += (couponB/2)/((1+yield1/2)**(i))*(i*0.5)\n",
    "Weight_B = 1/Price_B1 * (Weight_B+ (100+couponB/2)/((1+yield1/2)**(yrB*2))*yrB)\n",
    "\n",
    "Weight_C = 0\n",
    "for i in range(1,yrC*2):\n",
    "    Weight_C += (couponC/2)/((1+yield1/2)**(i))*(i*0.5)\n",
    "Weight_C = 1/Price_C1 * (Weight_C + (100+couponC/2)/((1+yield1/2)**(yrC*2))*yrC)\n",
    "\n",
    "Weight_D = 0\n",
    "for i in range(1,yrD*2):\n",
    "    Weight_D += (couponD/2)/((1+yield1/2)**(i))*(i*0.5)\n",
    "Weight_D = 1/Price_D1 * (Weight_D + (100+couponD/2)/((1+yield1/2)**(yrD*2))*yrD)\n",
    "\n",
    "\n",
    "\n",
    "eduration = [Weight_A,Weight_B,Weight_C,Weight_D] #(Bond A Duration, Bond B Duration, Bond C Duration, Bond D Duration) \n",
    "\n",
    "durationa = - Price_A1*Weight_A/(1+yield1)* (0.03-0.025)\n",
    "durationb = - Price_B1*Weight_B/(1+yield1)* (0.03-0.025)\n",
    "durationc = - Price_C1*Weight_C/(1+yield1)* (0.03-0.025)\n",
    "durationd = - Price_D1*Weight_D/(1+yield1)* (0.03-0.025)\n",
    "\n",
    "\n",
    "eprices_c = [durationa,durationb,durationc,durationd] #(Bond A,B,C,D new prices if yield increases to 3.5% from 3%)\n",
    "\n",
    "durationa = - Price_A1*Weight_A/(1+yield1)* (0.025-0.03)\n",
    "durationb = - Price_B1*Weight_B/(1+yield1)* (0.025-0.03)\n",
    "durationc = - Price_C1*Weight_C/(1+yield1)* (0.025-0.03)\n",
    "durationd = - Price_D1*Weight_D/(1+yield1)* (0.025-0.03)\n",
    "\n",
    "eprices_d = [durationa,durationb,durationc,durationd] #(Bond A,B,C,D new prices if yield decreases to 2.5% from 3%)\n",
    "\n",
    "\n",
    "# add answers to dictionary for \"Q3\", #changes are percent changes in decimal\n",
    "#Provide answer for part a in the form of a write-up\n",
    "\n",
    "mysolnQ3 = {'b' : b,'c.pric': cprices, 'c.chg':cchanges,'d.pric':dprices, 'd.chg':dchanges, 'e.duration': eduration,'e.price.c': eprices_c, 'e.price.d':eprices_d}\n",
    "mysoln['Q3'] = mysolnQ3\n",
    "\n"
   ]
  },
  {
   "cell_type": "code",
   "execution_count": 7,
   "metadata": {
    "scrolled": true
   },
   "outputs": [
    {
     "data": {
      "text/plain": [
       "{'Q3': {'b': [90.77781544814565,\n",
       "   82.83136121491822,\n",
       "   104.6110922759273,\n",
       "   108.58431939254115],\n",
       "  'c.pric': [88.62347135673363,\n",
       "   79.05889836906208,\n",
       "   102.2753057286532,\n",
       "   104.18822032618743],\n",
       "  'c.chg': [-2.154344091412014,\n",
       "   -3.77246284585614,\n",
       "   -2.335786547274111,\n",
       "   -4.396099066353713],\n",
       "  'd.pric': [92.9908555692381,\n",
       "   86.80051289933087,\n",
       "   107.00914443076198,\n",
       "   113.1994871006693],\n",
       "  'd.chg': [2.2130401210924475,\n",
       "   3.969151684412651,\n",
       "   2.398052154834673,\n",
       "   4.615167708128155],\n",
       "  'e.duration': [4.882591967962143,\n",
       "   9.482114101995808,\n",
       "   4.592469806687409,\n",
       "   8.419764690678013],\n",
       "  'e.price.c': [-2.1516069542537157,\n",
       "   -3.812701059531477,\n",
       "   -2.3321518578727494,\n",
       "   -4.438128244575831],\n",
       "  'e.price.d': [2.1516069542537157,\n",
       "   3.812701059531477,\n",
       "   2.3321518578727494,\n",
       "   4.438128244575831]}}"
      ]
     },
     "execution_count": 7,
     "metadata": {},
     "output_type": "execute_result"
    }
   ],
   "source": [
    "# return my solution\n",
    "mysoln"
   ]
  },
  {
   "cell_type": "markdown",
   "metadata": {},
   "source": [
    "# Question 4"
   ]
  },
  {
   "cell_type": "code",
   "execution_count": 8,
   "metadata": {},
   "outputs": [
    {
     "ename": "SyntaxError",
     "evalue": "invalid syntax (1157609177.py, line 2)",
     "output_type": "error",
     "traceback": [
      "\u001b[0;36m  Input \u001b[0;32mIn [8]\u001b[0;36m\u001b[0m\n\u001b[0;31m    104x2+106x3 = 1000000\u001b[0m\n\u001b[0m       ^\u001b[0m\n\u001b[0;31mSyntaxError\u001b[0m\u001b[0;31m:\u001b[0m invalid syntax\n"
     ]
    }
   ],
   "source": [
    "# code is Optional\n",
    "104x2+106x3 = 1000000\n",
    "100x1 = 2000000\n",
    "4x2+6x3 = 0\n",
    "\n",
    "x1 = 20000\n",
    "x2 = - 20000\n",
    "x3 = 30000\n",
    "\n",
    "\n",
    "\n",
    "\n"
   ]
  },
  {
   "cell_type": "code",
   "execution_count": null,
   "metadata": {},
   "outputs": [],
   "source": []
  }
 ],
 "metadata": {
  "kernelspec": {
   "display_name": "Python 3 (ipykernel)",
   "language": "python",
   "name": "python3"
  },
  "language_info": {
   "codemirror_mode": {
    "name": "ipython",
    "version": 3
   },
   "file_extension": ".py",
   "mimetype": "text/x-python",
   "name": "python",
   "nbconvert_exporter": "python",
   "pygments_lexer": "ipython3",
   "version": "3.9.12"
  }
 },
 "nbformat": 4,
 "nbformat_minor": 4
}
