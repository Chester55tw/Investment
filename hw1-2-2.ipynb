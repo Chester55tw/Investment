{
  "metadata": {
    "kernelspec": {
      "name": "python",
      "display_name": "Python (Pyodide)",
      "language": "python"
    },
    "language_info": {
      "codemirror_mode": {
        "name": "python",
        "version": 3
      },
      "file_extension": ".py",
      "mimetype": "text/x-python",
      "name": "python",
      "nbconvert_exporter": "python",
      "pygments_lexer": "ipython3",
      "version": "3.8"
    }
  },
  "nbformat_minor": 4,
  "nbformat": 4,
  "cells": [
    {
      "cell_type": "markdown",
      "source": "# Problem Set 1 Solution Template",
      "metadata": {}
    },
    {
      "cell_type": "code",
      "source": "import pandas as pd\nimport numpy as np\n\n# mysoln is a dataframe to store your answers\n\n# the first column of the dataframe contains names for the students in your group\n# make sure these match the names shown on the pdf document provided by the MFE office\n# using group 1 as an example:\n\nmysoln = pd.DataFrame([\"Jacob Yee\",\"Chester Chen\",\"Manish Singh\", \"Jessica Wu\"],columns=['student'])\n",
      "metadata": {
        "trusted": true
      },
      "execution_count": 27,
      "outputs": []
    },
    {
      "cell_type": "code",
      "source": "#Q1\n# 1,2,3 are placeholders for a,b,c. Replace them with your answers. Do the same for Q2-Q4\nAPR = 0.04\nCD = 200000\na = (1+APR/1)**2*CD\nb = (1+APR/4)**(2*4)*CD \nc = (1+APR/12)**(2*12)*CD \n\nmysoln[\"Q1\"] = [a,b,c,\"\"]",
      "metadata": {
        "trusted": true
      },
      "execution_count": 35,
      "outputs": []
    },
    {
      "cell_type": "code",
      "source": "#Q2\nC = 0.08 * 2000000\na = C/1.05**2+C/1.05**4+C/1.05**6+C/1.05**8+C/1.05**10+C/1.05**12+C/pow(1.05,14)+C/pow(1.05,16)+C/pow(1.05,18)+C/pow(1.05,20)\nb = 3000000/(1/1.06**2+1/1.06**4+1/1.06**6+1/1.06**8+1/1.06**10+1/1.06**12+1/1.06**14+1/1.06**16+1/1.06**18+1/1.06**20)\nmysoln[\"Q2\"] = [a,b,\"\",\"\"]",
      "metadata": {
        "trusted": true
      },
      "execution_count": 36,
      "outputs": []
    },
    {
      "cell_type": "code",
      "source": "#Q3\na = 0\nSaving = 100000*0.45\nfor i in range(0,35):\n    a += (Saving*(1.02)**(i))\nb = a*0.02/(1-(1/1.02**20))\nmysoln[\"Q3\"] =[a,b,\"\",\"\"]",
      "metadata": {
        "trusted": true
      },
      "execution_count": 37,
      "outputs": []
    },
    {
      "cell_type": "code",
      "source": "#Q4\na = (1+0.03/12)**12-1\nb = 500000*(0.03/12*(1+0.03/12)**(30*12))/((1+0.03/12)**(30*12)-1)\ntotal_payment = 500000*1.0025**20\nc = total_payment-b*((1+0.03/12)**20-1)/(0.03/12)\nmysoln[\"Q4\"]=[a,b,c,\"\"]",
      "metadata": {
        "trusted": true
      },
      "execution_count": 38,
      "outputs": []
    },
    {
      "cell_type": "code",
      "source": "mysoln\n",
      "metadata": {
        "trusted": true
      },
      "execution_count": 39,
      "outputs": [
        {
          "execution_count": 39,
          "output_type": "execute_result",
          "data": {
            "text/plain": "        student             Q2              Q3             Q4             Q1\n0     Jacob Yee  972660.319418  2249751.493491       0.030416       216320.0\n1  Chester Chen  538800.562117   137587.417939    2108.020169  216571.341126\n2  Manish Singh                                 482425.858176  216628.591832\n3    Jessica Wu                                                             ",
            "text/html": "<div>\n<style scoped>\n    .dataframe tbody tr th:only-of-type {\n        vertical-align: middle;\n    }\n\n    .dataframe tbody tr th {\n        vertical-align: top;\n    }\n\n    .dataframe thead th {\n        text-align: right;\n    }\n</style>\n<table border=\"1\" class=\"dataframe\">\n  <thead>\n    <tr style=\"text-align: right;\">\n      <th></th>\n      <th>student</th>\n      <th>Q2</th>\n      <th>Q3</th>\n      <th>Q4</th>\n      <th>Q1</th>\n    </tr>\n  </thead>\n  <tbody>\n    <tr>\n      <th>0</th>\n      <td>Jacob Yee</td>\n      <td>972660.319418</td>\n      <td>2249751.493491</td>\n      <td>0.030416</td>\n      <td>216320.0</td>\n    </tr>\n    <tr>\n      <th>1</th>\n      <td>Chester Chen</td>\n      <td>538800.562117</td>\n      <td>137587.417939</td>\n      <td>2108.020169</td>\n      <td>216571.341126</td>\n    </tr>\n    <tr>\n      <th>2</th>\n      <td>Manish Singh</td>\n      <td></td>\n      <td></td>\n      <td>482425.858176</td>\n      <td>216628.591832</td>\n    </tr>\n    <tr>\n      <th>3</th>\n      <td>Jessica Wu</td>\n      <td></td>\n      <td></td>\n      <td></td>\n      <td></td>\n    </tr>\n  </tbody>\n</table>\n</div>"
          },
          "metadata": {}
        }
      ]
    }
  ]
}