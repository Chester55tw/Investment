{
 "cells": [
  {
   "cell_type": "markdown",
   "metadata": {},
   "source": [
    "# Problem Set 3 - Code"
   ]
  },
  {
   "cell_type": "code",
   "execution_count": 132,
   "metadata": {},
   "outputs": [],
   "source": [
    "import pandas as pd\n",
    "import numpy as np\n",
    "from sympy import *\n",
    "\n",
    "# mysoln is a dictionary to store your answers\n",
    "\n",
    "# the values of the first key, i.e. \"Students\" contains names for the students in your group\n",
    "# make sure these match the names shown on the pdf document provided by the MFE office\n",
    "\n",
    "mysoln = {}"
   ]
  },
  {
   "cell_type": "markdown",
   "metadata": {},
   "source": [
    "# Question 1"
   ]
  },
  {
   "cell_type": "code",
   "execution_count": 133,
   "metadata": {},
   "outputs": [
    {
     "data": {
      "text/latex": [
       "$\\displaystyle 0.0687615538252488$"
      ],
      "text/plain": [
       "0.0687615538252488"
      ]
     },
     "execution_count": 133,
     "metadata": {},
     "output_type": "execute_result"
    }
   ],
   "source": [
    "# 1\n",
    "\n",
    "# your intermediary code to get your answers here\n",
    "# problem inputs\n",
    "par = 100\n",
    "r1 = .05\n",
    "r2 = .06\n",
    "r3 = .07\n",
    "coup = .1 * par\n",
    "\n",
    "#part a\n",
    "ap = coup/(1+r1) + coup/(1+r2)**2 + (par+coup)/(1+r3)**3 #bond's price\n",
    "ytm = Symbol('ytm')\n",
    "fytm = coup/(1+ytm) + coup/(1+ytm)**2 + (par+coup)/(1+ytm)**3\n",
    "aytm = solve(fytm - ap)\n",
    "aytm_real = aytm[0] #take the real root\n",
    "aytm_real #YTM"
   ]
  },
  {
   "cell_type": "code",
   "execution_count": 134,
   "metadata": {},
   "outputs": [],
   "source": [
    "#part b\n",
    "f11 = (1+r2)**2/(1+r1) - 1\n",
    "f12 = np.sqrt((1+r3)**3/(1+r1)) - 1\n",
    "f21 = (1+r3)**3/(1+r2)**2 - 1\n",
    "\n",
    "#part c\n",
    "#c = r3\n",
    "\n",
    "# save down your final answers for part a, b, and c\n",
    "a = [ap, aytm_real]\n",
    "b = [f11, f12, f21]\n",
    "c = r3\n",
    "\n",
    "# print answers for \"Q1\""
   ]
  },
  {
   "cell_type": "code",
   "execution_count": 135,
   "metadata": {},
   "outputs": [
    {
     "name": "stdout",
     "output_type": "stream",
     "text": [
      "[108.21654038194563, 0.0687615538252488]\n",
      "3\n",
      "[0.07009523809523821, 0.08014240683699625, 0.09028390886436455]\n",
      "0.07\n"
     ]
    }
   ],
   "source": [
    "print(a)\n",
    "print(len(b))\n",
    "print(b)\n",
    "print(c)"
   ]
  },
  {
   "cell_type": "markdown",
   "metadata": {},
   "source": [
    "# Question 2"
   ]
  },
  {
   "cell_type": "code",
   "execution_count": 136,
   "metadata": {},
   "outputs": [
    {
     "name": "stdout",
     "output_type": "stream",
     "text": [
      "0.04014802830754771\n",
      "[-10000.          10819.07920792]\n"
     ]
    }
   ],
   "source": [
    "# 2\n",
    "# put a and c in pdf\n",
    "#b\n",
    "df1 = 1/(1 + 0.01) \n",
    "df3 = 1/(1 + 0.03)**3\n",
    "df13 = df3/df1\n",
    "b = np.sqrt(1/df13) - 1\n",
    "\n",
    "#c\n",
    "cf = np.array([0, -1e6])\n",
    "CF = np.array([[-100*df1, -100*df3],[100,0]])\n",
    "c = np.linalg.solve(CF, cf)\n",
    "\n",
    "print(b)\n",
    "print(c)"
   ]
  },
  {
   "cell_type": "markdown",
   "metadata": {},
   "source": [
    "# Question 3"
   ]
  },
  {
   "cell_type": "code",
   "execution_count": 137,
   "metadata": {},
   "outputs": [],
   "source": [
    "# 3\n",
    "# your intermediary code to get your answers here\n",
    "# bond price helper function\n",
    "def bondprice(cpercent, maturity, yield1, face):\n",
    "    c = cpercent/2 * face #coupon\n",
    "    yieldsa = yield1/2 #semi-annual yield\n",
    "    price = 0 \n",
    "    for i in np.arange(0.5,maturity,0.5):\n",
    "        price = price + c*(1+yieldsa)**(-2*i)\n",
    "    price =price + (face+c)*(1+yieldsa)**(-2*maturity)\n",
    "    return price\n",
    "\n",
    "ytm = 0.03\n",
    "bpriceA = bondprice(cpercent=.01, maturity=5, yield1=ytm, face=100)\n",
    "bpriceB = bondprice(cpercent=.01, maturity=10, yield1=ytm, face=100)\n",
    "bpriceC = bondprice(cpercent=.04, maturity=5, yield1=ytm, face=100)\n",
    "bpriceD = bondprice(cpercent=.04, maturity=10, yield1=ytm, face=100)\n",
    "b = [bpriceA, bpriceB, bpriceC, bpriceD] #(Bond A, Bond B, Bond C, Bond D)"
   ]
  },
  {
   "cell_type": "code",
   "execution_count": 138,
   "metadata": {},
   "outputs": [],
   "source": [
    "#part c\n",
    "delta = +.005\n",
    "cpriceA = bondprice(cpercent=.01, maturity=5, yield1=ytm+delta, face=100)\n",
    "cpriceB = bondprice(cpercent=.01, maturity=10, yield1=ytm+delta, face=100)\n",
    "cpriceC = bondprice(cpercent=.04, maturity=5, yield1=ytm+delta, face=100)\n",
    "cpriceD = bondprice(cpercent=.04, maturity=10, yield1=ytm+delta, face=100)\n",
    "cprices = [cpriceA,cpriceB,cpriceC,cpriceD] #(Bond A, Bond B, Bond C, Bond D)"
   ]
  },
  {
   "cell_type": "code",
   "execution_count": 139,
   "metadata": {},
   "outputs": [],
   "source": [
    "cdeltaA = (cpriceA-bpriceA)/bpriceA\n",
    "cdeltaB = (cpriceB-bpriceB)/bpriceB\n",
    "cdeltaC = (cpriceC-bpriceC)/bpriceC\n",
    "cdeltaD = (cpriceD-bpriceD)/bpriceD\n",
    "cchanges = [cdeltaA,cdeltaB,cdeltaC,cdeltaD] #(Bond A Chg, Bond B Chg, Bond C Chg, Bond D Chg)"
   ]
  },
  {
   "cell_type": "code",
   "execution_count": 140,
   "metadata": {},
   "outputs": [],
   "source": [
    "#part d\n",
    "delta = -.005\n",
    "dpriceA = bondprice(cpercent=.01, maturity=5, yield1=ytm+delta, face=100)\n",
    "dpriceB = bondprice(cpercent=.01, maturity=10, yield1=ytm+delta, face=100)\n",
    "dpriceC = bondprice(cpercent=.04, maturity=5, yield1=ytm+delta, face=100)\n",
    "dpriceD = bondprice(cpercent=.04, maturity=10, yield1=ytm+delta, face=100)\n",
    "ddeltaA = (dpriceA-bpriceA)/bpriceA\n",
    "ddeltaB = (dpriceB-bpriceB)/bpriceB\n",
    "ddeltaC = (dpriceC-bpriceC)/bpriceC\n",
    "ddeltaD = (dpriceD-bpriceD)/bpriceD\n",
    "\n",
    "dprices = [dpriceA,dpriceB,dpriceC,dpriceD]  #(Bond A, Bond B, Bond C, Bond D)\n",
    "dchanges = [ddeltaA,ddeltaB,ddeltaC,ddeltaD] #(Bond A Chg, Bond B Chg, Bond C Chg, Bond D Chg)"
   ]
  },
  {
   "cell_type": "code",
   "execution_count": 141,
   "metadata": {},
   "outputs": [],
   "source": [
    "def modd(cpercent, maturity, yield1, face, py=2):\n",
    "    c = cpercent/py * face #coupon\n",
    "    yieldsa = yield1/py #semi-annual yield\n",
    "    totalsteps = int(maturity*py)\n",
    "    periods = np.linspace(1/py,stop = maturity,num = totalsteps) #num periods\n",
    "    cf = np.repeat(c,len(periods)) +np.append(np.repeat(0,len(periods)-1),100)\n",
    "    weightedprice = sum(periods*cf*(1+yieldsa)**(-py*periods)) #discounted weighted cash flows at each period\n",
    "    price = sum(cf*(1+yieldsa)**(-py*periods)) #discounted cash flows at each period\n",
    "    return weightedprice/price/(1+yield1/py)"
   ]
  },
  {
   "cell_type": "code",
   "execution_count": 142,
   "metadata": {},
   "outputs": [],
   "source": [
    "ytm = 0.03\n",
    "durA = modd(cpercent=.01, maturity=5, yield1=ytm, face=100)\n",
    "durB = modd(cpercent=.01, maturity=10, yield1=ytm, face=100)\n",
    "durC = modd(cpercent=.04, maturity=5, yield1=ytm, face=100)\n",
    "durD = modd(cpercent=.04, maturity=10, yield1=ytm, face=100)\n",
    "\n",
    "p0 = np.array([bpriceA, bpriceB, bpriceC, bpriceD])\n",
    "md = np.array([durA,durB,durC,durD])\n",
    "pu =  p0*(1-(md*0.005))\n",
    "pd = p0*(1+md*0.005)\n",
    "\n",
    "eduration = [durA,durB,durC,durD] #(Bond A Duration, Bond B Duration, Bond C Duration, Bond D Duration) \n",
    "eprices_c = pu #(Bond A,B,C,D new prices if yield increases to 3.5% from 3%)\n",
    "eprices_d = pd #(Bond A,B,C,D new prices if yield decreases to 2.5% from 3%)"
   ]
  },
  {
   "cell_type": "code",
   "execution_count": 145,
   "metadata": {},
   "outputs": [],
   "source": [
    "mysolnQ3 = {'b' : b,'c.pric': cprices, 'c.chg':cchanges,'d.pric':dprices, 'd.chg':dchanges, 'e.duration': eduration,'e.price.c': eprices_c, 'e.price.d':eprices_d}\n",
    "mysoln['Q3'] = mysolnQ3\n"
   ]
  },
  {
   "cell_type": "code",
   "execution_count": 146,
   "metadata": {},
   "outputs": [
    {
     "data": {
      "text/plain": [
       "{'b': [90.77781544814565,\n",
       "  82.83136121491822,\n",
       "  104.61109227592732,\n",
       "  108.58431939254115],\n",
       " 'c.pric': [88.62347135673363,\n",
       "  79.05889836906209,\n",
       "  102.2753057286532,\n",
       "  104.18822032618743],\n",
       " 'c.chg': [-0.02373205480630479,\n",
       "  -0.045543895337756345,\n",
       "  -0.022328287531050157,\n",
       "  -0.0404855792341568],\n",
       " 'd.pric': [92.9908555692381,\n",
       "  86.80051289933087,\n",
       "  107.009144430762,\n",
       "  113.1994871006693],\n",
       " 'd.chg': [0.024378644828224428,\n",
       "  0.04791846501368123,\n",
       "  0.0229234979069855,\n",
       "  0.04250307718413695],\n",
       " 'e.duration': [4.810435436415906,\n",
       "  9.341984336941684,\n",
       "  4.524600794765919,\n",
       "  8.295334670618734],\n",
       " 'e.price.c': array([ 88.59441135,  78.96231482, 102.24447512, 104.08060305]),\n",
       " 'e.price.d': array([ 92.96121955,  86.70040761, 106.97770943, 113.08803574])}"
      ]
     },
     "execution_count": 146,
     "metadata": {},
     "output_type": "execute_result"
    }
   ],
   "source": [
    "mysoln['Q3']"
   ]
  },
  {
   "cell_type": "code",
   "execution_count": null,
   "metadata": {},
   "outputs": [],
   "source": []
  }
 ],
 "metadata": {
  "kernelspec": {
   "display_name": "Python 3",
   "language": "python",
   "name": "python3"
  },
  "language_info": {
   "codemirror_mode": {
    "name": "ipython",
    "version": 3
   },
   "file_extension": ".py",
   "mimetype": "text/x-python",
   "name": "python",
   "nbconvert_exporter": "python",
   "pygments_lexer": "ipython3",
   "version": "3.8.8"
  }
 },
 "nbformat": 4,
 "nbformat_minor": 4
}
