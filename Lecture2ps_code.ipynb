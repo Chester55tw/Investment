{
 "cells": [
  {
   "cell_type": "markdown",
   "metadata": {},
   "source": [
    "# Problem Set 2 - Solutions "
   ]
  },
  {
   "cell_type": "code",
   "execution_count": 1,
   "metadata": {},
   "outputs": [],
   "source": [
    "import pandas as pd\n",
    "import numpy as np\n"
   ]
  },
  {
   "cell_type": "markdown",
   "metadata": {},
   "source": [
    "# Question 1"
   ]
  },
  {
   "cell_type": "code",
   "execution_count": 2,
   "metadata": {},
   "outputs": [
    {
     "data": {
      "text/html": [
       "<div>\n",
       "<style scoped>\n",
       "    .dataframe tbody tr th:only-of-type {\n",
       "        vertical-align: middle;\n",
       "    }\n",
       "\n",
       "    .dataframe tbody tr th {\n",
       "        vertical-align: top;\n",
       "    }\n",
       "\n",
       "    .dataframe thead th {\n",
       "        text-align: right;\n",
       "    }\n",
       "</style>\n",
       "<table border=\"1\" class=\"dataframe\">\n",
       "  <thead>\n",
       "    <tr style=\"text-align: right;\">\n",
       "      <th></th>\n",
       "      <th>Maturity</th>\n",
       "      <th>Spot rate</th>\n",
       "      <th>df</th>\n",
       "    </tr>\n",
       "  </thead>\n",
       "  <tbody>\n",
       "    <tr>\n",
       "      <th>1</th>\n",
       "      <td>1</td>\n",
       "      <td>0.020</td>\n",
       "      <td>0.980392</td>\n",
       "    </tr>\n",
       "    <tr>\n",
       "      <th>2</th>\n",
       "      <td>2</td>\n",
       "      <td>0.025</td>\n",
       "      <td>0.951814</td>\n",
       "    </tr>\n",
       "    <tr>\n",
       "      <th>3</th>\n",
       "      <td>3</td>\n",
       "      <td>0.030</td>\n",
       "      <td>0.915142</td>\n",
       "    </tr>\n",
       "    <tr>\n",
       "      <th>4</th>\n",
       "      <td>4</td>\n",
       "      <td>0.035</td>\n",
       "      <td>0.871442</td>\n",
       "    </tr>\n",
       "  </tbody>\n",
       "</table>\n",
       "</div>"
      ],
      "text/plain": [
       "   Maturity  Spot rate        df\n",
       "1         1      0.020  0.980392\n",
       "2         2      0.025  0.951814\n",
       "3         3      0.030  0.915142\n",
       "4         4      0.035  0.871442"
      ]
     },
     "execution_count": 2,
     "metadata": {},
     "output_type": "execute_result"
    }
   ],
   "source": [
    "table = pd.DataFrame([1,2,3,4],columns=['Maturity'])\n",
    "table.index = np.arange(1, len(table) + 1) #reset index to begin from 1\n",
    "table['Spot rate']=[0.02,0.025,0.03,0.035]\n",
    "table['df'] = 1/((1+table['Spot rate'])**table['Maturity'])\n",
    "table"
   ]
  },
  {
   "cell_type": "code",
   "execution_count": 3,
   "metadata": {},
   "outputs": [
    {
     "name": "stdout",
     "output_type": "stream",
     "text": [
      "91.51\n",
      "97.11\n",
      "135.49\n"
     ]
    }
   ],
   "source": [
    "#1a\n",
    "a = 100/(1+table['Spot rate'].iloc[2])**3\n",
    "#1b\n",
    "par = 100\n",
    "coup = 0.01*par\n",
    "b = (coup/(1+table['Spot rate'].iloc[0]))+ (par+coup)/(1+table['Spot rate'].iloc[1])**2 \n",
    "#1c\n",
    "coup = 0.13*par\n",
    "c = coup/(1+table['Spot rate'].iloc[0])+coup/(1+table['Spot rate'].iloc[1])**2+coup/(1+table['Spot rate'].iloc[2])**3+(coup+par)/(1+table['Spot rate'].iloc[3])**4\n",
    "\n",
    "print(round(a,2))\n",
    "print(round(b,2))\n",
    "print(round(c,2))\n"
   ]
  },
  {
   "cell_type": "markdown",
   "metadata": {},
   "source": [
    "# Question 2"
   ]
  },
  {
   "cell_type": "code",
   "execution_count": 5,
   "metadata": {},
   "outputs": [
    {
     "name": "stdout",
     "output_type": "stream",
     "text": [
      "0.0509\n",
      "0.0547\n"
     ]
    }
   ],
   "source": [
    "#problem inputs\n",
    "par = 100\n",
    "coup_x = .03 * par / 2\n",
    "coup_y = .04 * par / 2\n",
    "p_x = 98.98\n",
    "p_y = 98.59\n",
    "\n",
    "x = 2*((coup_x+par)/(p_x)-1)\n",
    "y = 2*(np.sqrt((coup_y+par)/(p_y - (coup_y)/(1+(x/2))))-1)\n",
    "print(round(x,4))\n",
    "print(round(y,4))"
   ]
  },
  {
   "cell_type": "code",
   "execution_count": null,
   "metadata": {},
   "outputs": [],
   "source": []
  }
 ],
 "metadata": {
  "kernelspec": {
   "display_name": "Python 3",
   "language": "python",
   "name": "python3"
  },
  "language_info": {
   "codemirror_mode": {
    "name": "ipython",
    "version": 3
   },
   "file_extension": ".py",
   "mimetype": "text/x-python",
   "name": "python",
   "nbconvert_exporter": "python",
   "pygments_lexer": "ipython3",
   "version": "3.8.8"
  }
 },
 "nbformat": 4,
 "nbformat_minor": 4
}
