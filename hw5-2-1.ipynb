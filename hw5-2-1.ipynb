{
 "cells": [
  {
   "cell_type": "markdown",
   "metadata": {},
   "source": [
    "# Problem Set 5 - Template"
   ]
  },
  {
   "cell_type": "code",
   "execution_count": 94,
   "metadata": {},
   "outputs": [],
   "source": [
    "import pandas as pd\n",
    "import numpy as np\n",
    "from sympy import *\n",
    "\n",
    "# mysoln is a dictionary to store your answers\n",
    "\n",
    "# the values of the first key, i.e. \"Students\" contains names for the students in your group\n",
    "# make sure these match the names shown on the pdf document provided by the MFE office\n",
    "\n",
    "mysoln = {'Students':  [\"Xuefei Sun\",\"Dongyu Huang\",\"Chester Chen\", \"Ao Zhan\", \"Jay Chauhan\"] }"
   ]
  },
  {
   "cell_type": "markdown",
   "metadata": {},
   "source": [
    "# Problem 1"
   ]
  },
  {
   "cell_type": "code",
   "execution_count": 95,
   "metadata": {},
   "outputs": [],
   "source": [
    "#answer for part 1(a)\n",
    "X=[40000,30000,-10000] \n",
    "# answer for part (1b)\n",
    "X2 = [-42490,100372] \n",
    "mysolnQ1 = {'a' : X ,'b': X2}\n",
    "mysoln['Q1'] = mysolnQ1\n",
    "# Insert write up for part 1(c) and 1(d)"
   ]
  },
  {
   "cell_type": "markdown",
   "metadata": {},
   "source": [
    "1c: the heging portfolio would change since the duration of the liability changes. since  \n",
    "4M maturity duration increases more than 2M, we need to buy more 20 years bond, \n",
    "and short 10years bond. \n",
    "1d: The advantage of synthetic replication: We do not need to reblanace the profolio since the synthetic replication gives us perfect hegding. Since the specific year bond might not be avilibale in the market, we use hedging.\n"
   ]
  },
  {
   "cell_type": "markdown",
   "metadata": {},
   "source": [
    "# Problem 2"
   ]
  },
  {
   "cell_type": "code",
   "execution_count": 96,
   "metadata": {
    "scrolled": true
   },
   "outputs": [],
   "source": [
    "# Answers for part 2(a)\n",
    "#a = [bond1price, bond1duration, bond1convexity]\n",
    "a = [100.098,0.981,1.926]"
   ]
  },
  {
   "cell_type": "code",
   "execution_count": 97,
   "metadata": {},
   "outputs": [],
   "source": [
    "# Answers for part 2(a)\n",
    "#b = [bond2price, bond2duration, bond2convexity]\n",
    "b = [100.194,1.943,5.703]"
   ]
  },
  {
   "cell_type": "code",
   "execution_count": 98,
   "metadata": {},
   "outputs": [
    {
     "data": {
      "text/plain": [
       "[100.0]"
      ]
     },
     "execution_count": 98,
     "metadata": {},
     "output_type": "execute_result"
    }
   ],
   "source": [
    "# Answers for part 2(c)\n",
    "##caculate the spot rate at year 2\n",
    "f1 = (1.019**2)/1.02 -1\n",
    "\n",
    "##then use the spot rate to calculate the price\n",
    "res = 2/(1+0.02)+(100+f1*100)/((1.02)*(1+f1))\n",
    "#c = [frnprice]\n",
    "c=[res]\n",
    "c"
   ]
  },
  {
   "cell_type": "code",
   "execution_count": 99,
   "metadata": {},
   "outputs": [
    {
     "data": {
      "text/plain": [
       "[0.9813542688910698, 1.926112402141452]"
      ]
     },
     "execution_count": 99,
     "metadata": {},
     "output_type": "execute_result"
    }
   ],
   "source": [
    "# Answers for part 2(d)\n",
    "m_D = 1/1.019\n",
    "convex = 2/1.019**2\n",
    "#d = [frnduration, frnconvexity]\n",
    "d=[m_D,convex]\n",
    "d"
   ]
  },
  {
   "cell_type": "code",
   "execution_count": 100,
   "metadata": {},
   "outputs": [],
   "source": [
    "mysolnQ2 = {'a' : a ,'b': b, 'c':c, 'd':d}\n",
    "mysoln['Q2'] = mysolnQ2\n"
   ]
  },
  {
   "cell_type": "code",
   "execution_count": 101,
   "metadata": {},
   "outputs": [
    {
     "data": {
      "text/plain": [
       "{'Students': ['Xuefei Sun',\n",
       "  'Dongyu Huang',\n",
       "  'Chester Chen',\n",
       "  'Ao Zhan',\n",
       "  'Jay Chauhan'],\n",
       " 'Q1': {'a': [40000, 30000, -10000], 'b': [-42490, 100372]},\n",
       " 'Q2': {'a': [100.098, 0.981, 1.926],\n",
       "  'b': [100.194, 1.943, 5.703],\n",
       "  'c': [100.0],\n",
       "  'd': [0.9813542688910698, 1.926112402141452]}}"
      ]
     },
     "execution_count": 101,
     "metadata": {},
     "output_type": "execute_result"
    }
   ],
   "source": [
    "#return solution\n",
    "mysoln"
   ]
  },
  {
   "cell_type": "code",
   "execution_count": null,
   "metadata": {},
   "outputs": [],
   "source": []
  },
  {
   "cell_type": "code",
   "execution_count": null,
   "metadata": {},
   "outputs": [],
   "source": []
  }
 ],
 "metadata": {
  "kernelspec": {
   "display_name": "Python 3 (ipykernel)",
   "language": "python",
   "name": "python3"
  },
  "language_info": {
   "codemirror_mode": {
    "name": "ipython",
    "version": 3
   },
   "file_extension": ".py",
   "mimetype": "text/x-python",
   "name": "python",
   "nbconvert_exporter": "python",
   "pygments_lexer": "ipython3",
   "version": "3.9.12"
  }
 },
 "nbformat": 4,
 "nbformat_minor": 4
}
